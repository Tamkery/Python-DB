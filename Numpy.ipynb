{
 "cells": [
  {
   "cell_type": "markdown",
   "id": "80385fe8",
   "metadata": {},
   "source": [
    "## 为何Numpy数组优于list列表"
   ]
  },
  {
   "cell_type": "code",
   "execution_count": 1,
   "id": "ef53c4ed",
   "metadata": {},
   "outputs": [
    {
     "ename": "TypeError",
     "evalue": "unsupported operand type(s) for /: 'list' and 'list'",
     "output_type": "error",
     "traceback": [
      "\u001b[1;31m---------------------------------------------------------------------------\u001b[0m",
      "\u001b[1;31mTypeError\u001b[0m                                 Traceback (most recent call last)",
      "\u001b[1;32m~\\AppData\\Local\\Temp\\ipykernel_4144\\281745790.py\u001b[0m in \u001b[0;36m<module>\u001b[1;34m\u001b[0m\n\u001b[0;32m      2\u001b[0m \u001b[0mspeed\u001b[0m \u001b[1;33m=\u001b[0m\u001b[1;33m[\u001b[0m\u001b[1;36m6\u001b[0m\u001b[1;33m,\u001b[0m\u001b[1;36m10\u001b[0m\u001b[1;33m,\u001b[0m\u001b[1;36m7\u001b[0m\u001b[1;33m]\u001b[0m\u001b[1;33m\u001b[0m\u001b[1;33m\u001b[0m\u001b[0m\n\u001b[0;32m      3\u001b[0m \u001b[1;33m\u001b[0m\u001b[0m\n\u001b[1;32m----> 4\u001b[1;33m \u001b[0mtime\u001b[0m \u001b[1;33m=\u001b[0m\u001b[0mdistance\u001b[0m\u001b[1;33m/\u001b[0m\u001b[0mspeed\u001b[0m\u001b[1;33m\u001b[0m\u001b[1;33m\u001b[0m\u001b[0m\n\u001b[0m\u001b[0;32m      5\u001b[0m \u001b[0mprint\u001b[0m\u001b[1;33m(\u001b[0m\u001b[1;34m\"time:\"\u001b[0m\u001b[1;33m,\u001b[0m\u001b[0mtime\u001b[0m\u001b[1;33m)\u001b[0m\u001b[1;33m\u001b[0m\u001b[1;33m\u001b[0m\u001b[0m\n",
      "\u001b[1;31mTypeError\u001b[0m: unsupported operand type(s) for /: 'list' and 'list'"
     ]
    }
   ],
   "source": [
    "distance = [55,60,45 ] #台风的距离\n",
    "speed =[6,10,7] # 风速\n",
    "\n",
    "time =distance/speed  # 时间 =距离 除以 速度 \n",
    "print(\"time:\",time) #不出意外会报错，list 不支持运算"
   ]
  },
  {
   "cell_type": "markdown",
   "id": "b160c673",
   "metadata": {},
   "source": [
    "## 列表存在一些限制，比如说不能直接使用列表进行数学计算，这就是在Python中要由NumPy数组来解决此类问题的原因"
   ]
  },
  {
   "cell_type": "code",
   "execution_count": 17,
   "id": "3a49e4bc",
   "metadata": {
    "scrolled": true
   },
   "outputs": [
    {
     "name": "stdout",
     "output_type": "stream",
     "text": [
      "My time: [9.16666667 6.6        6.42857143]\n"
     ]
    }
   ],
   "source": [
    "# Numpy数组\n",
    "import numpy as np\n",
    "\n",
    "distance = [55,66,45 ] #台风的距离\n",
    "speed =[6,10,7] # 风速\n",
    "\n",
    "##list转化为Numpy数组\n",
    "dist =np.array(distance)\n",
    "spd =np.array(speed)\n",
    "\n",
    "my_time = dist/spd\n",
    "\n",
    "print(\"My time:\",my_time)"
   ]
  },
  {
   "cell_type": "markdown",
   "id": "fe3a709d",
   "metadata": {},
   "source": [
    "## 输出My time小数较多，如何按照需求保留小数点的位数？\n",
    "\n",
    "```\n",
    "numpy.set_printoptions(precision = N)\n",
    "```"
   ]
  },
  {
   "cell_type": "code",
   "execution_count": 19,
   "id": "cfcecb1b",
   "metadata": {
    "scrolled": true
   },
   "outputs": [
    {
     "name": "stdout",
     "output_type": "stream",
     "text": [
      "[9.16666667 6.6        6.42857143]\n",
      "[9.17 6.6  6.43]\n"
     ]
    }
   ],
   "source": [
    "print(my_time)\n",
    "np.set_printoptions(precision =2)\n",
    "print(my_time)"
   ]
  },
  {
   "cell_type": "markdown",
   "id": "fc3afc33",
   "metadata": {},
   "source": [
    "## Numpy数组属性\n",
    "ndim :维度  \n",
    "\n",
    "shape :尺寸 \n",
    "\n",
    "size :形状 "
   ]
  }
 ],
 "metadata": {
  "kernelspec": {
   "display_name": "Python 3 (ipykernel)",
   "language": "python",
   "name": "python3"
  },
  "language_info": {
   "codemirror_mode": {
    "name": "ipython",
    "version": 3
   },
   "file_extension": ".py",
   "mimetype": "text/x-python",
   "name": "python",
   "nbconvert_exporter": "python",
   "pygments_lexer": "ipython3",
   "version": "3.7.3"
  }
 },
 "nbformat": 4,
 "nbformat_minor": 5
}
